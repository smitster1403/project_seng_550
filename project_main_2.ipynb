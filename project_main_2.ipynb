{
 "cells": [
  {
   "cell_type": "markdown",
   "metadata": {},
   "source": [
    "# Analysis of Reddit Comments on Climate Change\n",
    "This notebook analyzes Reddit comments on climate change. Our team's goal is to: ...\n",
    "\n",
    "SENG 550 Final Project\n",
    "- Monmoy Maahdie\n",
    "- Smitkumar Saraiya\n",
    "- Farhan Ali\n",
    "- Kai Ferrer"
   ]
  },
  {
   "cell_type": "markdown",
   "metadata": {},
   "source": [
    "## 1. Import Libraries"
   ]
  },
  {
   "cell_type": "code",
   "execution_count": 1,
   "metadata": {},
   "outputs": [],
   "source": [
    "import pandas as pd\n",
    "import numpy as np\n",
    "import matplotlib.pyplot as plt\n",
    "from pyspark.sql import SparkSession\n",
    "from pyspark.sql.functions import collect_list\n",
    "# import pyspark\n",
    "from collections import Counter\n",
    "from pyspark.sql.functions import col, length, regexp_replace, udf, split, explode\n",
    "from pyspark.sql.types import DoubleType, StringType, IntegerType\n",
    "import spacy"
   ]
  },
  {
   "cell_type": "code",
   "execution_count": 2,
   "metadata": {},
   "outputs": [],
   "source": [
    "\n",
    "from pyspark.ml.feature import Tokenizer, HashingTF, VectorAssembler, StopWordsRemover\n",
    "from pyspark.ml.regression import LinearRegression\n",
    "from pyspark.ml import Pipeline\n",
    "from pyspark.ml.evaluation import RegressionEvaluator\n",
    "from pyspark.ml.tuning import CrossValidator, ParamGridBuilder\n"
   ]
  },
  {
   "cell_type": "markdown",
   "metadata": {},
   "source": [
    "## 2. Create Spark Session"
   ]
  },
  {
   "cell_type": "code",
   "execution_count": 3,
   "metadata": {},
   "outputs": [
    {
     "name": "stderr",
     "output_type": "stream",
     "text": [
      "24/12/19 12:27:53 WARN Utils: Your hostname, Smits-MacBook-Air.local resolves to a loopback address: 127.0.0.1; using 192.168.1.86 instead (on interface en0)\n",
      "24/12/19 12:27:53 WARN Utils: Set SPARK_LOCAL_IP if you need to bind to another address\n",
      "Setting default log level to \"WARN\".\n",
      "To adjust logging level use sc.setLogLevel(newLevel). For SparkR, use setLogLevel(newLevel).\n",
      "24/12/19 12:27:53 WARN NativeCodeLoader: Unable to load native-hadoop library for your platform... using builtin-java classes where applicable\n"
     ]
    }
   ],
   "source": [
    "# Initialize spark session\n",
    "spark = SparkSession.builder \\\n",
    "    .appName(\"Reddit Climate Change Comments\") \\\n",
    "    .config(\"spark.driver.memory\", \"4g\") \\\n",
    "    .config(\"spark.executor.memory\", \"8g\") \\\n",
    "    .config(\"spark.sql.shuffle.partitions\", \"100\") \\\n",
    "    .getOrCreate()"
   ]
  },
  {
   "cell_type": "markdown",
   "metadata": {},
   "source": [
    "## 3. Load Data"
   ]
  },
  {
   "cell_type": "code",
   "execution_count": 4,
   "metadata": {},
   "outputs": [
    {
     "data": {
      "text/plain": [
       "326"
      ]
     },
     "execution_count": 4,
     "metadata": {},
     "output_type": "execute_result"
    }
   ],
   "source": [
    "nlp = spacy.load('en_core_web_sm')\n",
    "stopwords = nlp.Defaults.stop_words\n",
    "len(stopwords)"
   ]
  },
  {
   "cell_type": "code",
   "execution_count": 5,
   "metadata": {},
   "outputs": [],
   "source": [
    "nlp.Defaults.stop_words -= {\"no\", \"not\"}"
   ]
  },
  {
   "cell_type": "code",
   "execution_count": 6,
   "metadata": {},
   "outputs": [
    {
     "name": "stderr",
     "output_type": "stream",
     "text": [
      "24/12/19 12:28:06 WARN GarbageCollectionMetrics: To enable non-built-in garbage collector(s) List(G1 Concurrent GC), users should configure it(them) to spark.eventLog.gcMetrics.youngGenerationGarbageCollectors or spark.eventLog.gcMetrics.oldGenerationGarbageCollectors\n",
      "                                                                                \r"
     ]
    }
   ],
   "source": [
    "# Create dataframe\n",
    "df = spark.read.csv(\"the-reddit-climate-change-dataset-comments.csv\", header=True, inferSchema=True)\n",
    "df = df.repartition(100)  #  increase the number of partitions for large datasets - idk what to put \n",
    "# df.show(5, truncate=False) # checking the dataset by displaying first 5 rows\n",
    "df_original = df # save original dataset"
   ]
  },
  {
   "cell_type": "code",
   "execution_count": 7,
   "metadata": {},
   "outputs": [],
   "source": [
    "new_columns = [col_name.replace('.', '_') for col_name in df.columns]\n",
    "df = df.toDF(*new_columns)\n",
    "# df.show(5, truncate=False)"
   ]
  },
  {
   "cell_type": "code",
   "execution_count": 8,
   "metadata": {},
   "outputs": [],
   "source": [
    "df_clean = df.dropna()\n",
    "# df_clean.show(n=5, truncate=False)"
   ]
  },
  {
   "cell_type": "code",
   "execution_count": 9,
   "metadata": {},
   "outputs": [],
   "source": [
    "df_clean = df_clean.drop(\"permalink\")\n",
    "\n",
    "# Separate records where sentiment and score can be cast to numbers\n",
    "clean_df = df_clean.filter(\n",
    "    col(\"sentiment\").cast(DoubleType()).isNotNull() &\n",
    "    col(\"score\").cast(DoubleType()).isNotNull()\n",
    ")\n",
    "\n",
    "# Records where either sentiment or score contain non-numerical values\n",
    "problematic_df = df_clean.filter(\n",
    "    col(\"sentiment\").cast(DoubleType()).isNull() |\n",
    "    col(\"score\").cast(DoubleType()).isNull()\n",
    ")\n",
    "\n",
    "\n"
   ]
  },
  {
   "cell_type": "code",
   "execution_count": 10,
   "metadata": {},
   "outputs": [],
   "source": [
    "# clean_df.filter((df_clean[\"type\"] == \"comment\") & (df_clean[\"subreddit_name\"] == \"technology\")).show(n=100, truncate=False) | YOU CAN MIDIFY THE SUBREDDIT NAME TO SEE CLIMATE CHANGE DISCUSSIONS ON DIFFERENT SUBREDDITS\n",
    "# clean_df.show(n=10, truncate=False) # we want this data"
   ]
  },
  {
   "cell_type": "code",
   "execution_count": 11,
   "metadata": {},
   "outputs": [],
   "source": [
    "# print(clean_df.count())"
   ]
  },
  {
   "cell_type": "code",
   "execution_count": 12,
   "metadata": {},
   "outputs": [],
   "source": [
    "# problematic_df.filter(df_clean[\"type\"] == \"comment\").show(n=5, truncate=False) # this we do not need"
   ]
  },
  {
   "cell_type": "code",
   "execution_count": 13,
   "metadata": {},
   "outputs": [],
   "source": [
    "clean_df_1 = clean_df.filter(col(\"type\") == \"comment\") # only comments exist in here\n",
    "# clean_df_1.show(n=10, truncate=False)"
   ]
  },
  {
   "cell_type": "code",
   "execution_count": 14,
   "metadata": {},
   "outputs": [],
   "source": [
    "# Load spacy model\n",
    "nlp = spacy.load('en_core_web_sm')\n",
    "\n",
    "# Define the preprocessing function\n",
    "def preprocess(comment):\n",
    "    doc = nlp(comment)\n",
    "    processed_words_list = []\n",
    "    for token in doc:\n",
    "        if not token.is_punct and not token.like_url and not token.is_stop:\n",
    "            processed_words_list.append(token.lemma_.strip().lower())\n",
    "    return ' '.join(processed_words_list)\n",
    "\n",
    "    \n",
    "# Create a UDF from the function\n",
    "preprocess_udf = udf(preprocess, StringType())\n"
   ]
  },
  {
   "cell_type": "code",
   "execution_count": 15,
   "metadata": {},
   "outputs": [
    {
     "name": "stderr",
     "output_type": "stream",
     "text": [
      "[Stage 4:>                                                          (0 + 1) / 1]\r"
     ]
    },
    {
     "name": "stdout",
     "output_type": "stream",
     "text": [
      "+-------+-------+------------+--------------------+--------------+-----------+----------------------------------------------------------------------------------------------------------------------------------------------------------------------------------------------------------------------------------------------------------------------------------------------------------------------------------------------------------------------------------------------------------------------------------------------------------------------------------------------------------------------------------------------------------------------------------------------------------------------------------------------------------------------------------------------------------------------------------+---------+-----+----------------------------------------------------------------------------------------------------------------------------------------------------------------------------------------------------------------------------------------------------------------------------------------------------------------------------------------------------------------------------------------------------------------------------------+\n",
      "|type   |id     |subreddit_id|subreddit_name      |subreddit_nsfw|created_utc|body                                                                                                                                                                                                                                                                                                                                                                                                                                                                                                                                                                                                                                                                                                                              |sentiment|score|processed_body                                                                                                                                                                                                                                                                                                                                                                                                                    |\n",
      "+-------+-------+------------+--------------------+--------------+-----------+----------------------------------------------------------------------------------------------------------------------------------------------------------------------------------------------------------------------------------------------------------------------------------------------------------------------------------------------------------------------------------------------------------------------------------------------------------------------------------------------------------------------------------------------------------------------------------------------------------------------------------------------------------------------------------------------------------------------------------+---------+-----+----------------------------------------------------------------------------------------------------------------------------------------------------------------------------------------------------------------------------------------------------------------------------------------------------------------------------------------------------------------------------------------------------------------------------------+\n",
      "|comment|ilzq6wi|2cn1kk      |confidentlyincorrect|false         |1661601318 |Climate change is a civilization ender, are you thick in the skull? We’re killing wild animals because we can’t keep our greed to ourselves and overpopulation is a contributor to that. Even if you don’t care about the animals, the animals are the ones keeping this planet alive, without animals our forests will die, our waters will become poison and our air will become toxic. It’s either people get rid of their greed or we have less greedy people (people in general) and the only solution is less people since nobody will sacrifice their mass consumption.                                                                                                                                                    |-0.9023  |3    |climate change civilization ender thick skull kill wild animal greed overpopulation contributor care animal animal one keep planet alive animal forest die water poison air toxic people rid greed greedy people people general solution people sacrifice mass consumption                                                                                                                                                        |\n",
      "|comment|ijh601l|2qh4r       |conspiracy          |false         |1659984481 |As oil production declines people will compete for the remaining supply driving prices up and causing a vast wealth transfer to the energy producers. By reframing the issue as climate change and charging a huge co2 tax on everything western governments can capture that wealth transfer for themselves - ostensibly to reinvest in alternative energy production and more effecient use of energy. Or maybe just to make their alt energy and green washing friends and patrons rich.                                                                                                                                                                                                                                       |0.9674   |0    |oil production decline people compete remain supply drive price cause vast wealth transfer energy producer reframe issue climate change charge huge co2 tax western government capture wealth transfer ostensibly reinvest alternative energy production effecient use energy maybe alt energy green washing friend patron rich                                                                                                   |\n",
      "|comment|ij23fxm|2r73k       |politicaldebate     |false         |1659709788 |Mc Donald's is a fast food company, you need to cook food... with a oven.... witch requires gas. Its really not concerning, even if we completely got rid of carbon emissions it wouldn't make a difference on climate change.                                                                                                                                                                                                                                                                                                                                                                                                                                                                                                    |-0.3612  |1    |mc donald fast food company need cook food oven witch require gas not concern completely get rid carbon emission difference climate change                                                                                                                                                                                                                                                                                        |\n",
      "|comment|igyuukm|2qh13       |worldnews           |false         |1658351775 |Climate change is the tip of the melting iceberg of things that would have been different if Gore had become president.                                                                                                                                                                                                                                                                                                                                                                                                                                                                                                                                                                                                           |0.0      |2    |climate change tip melt iceberg thing different gore president                                                                                                                                                                                                                                                                                                                                                                    |\n",
      "|comment|iioq9jv|2qndt       |republican          |false         |1659469914 |All the nonprofit organizations that claim to be objective - ACLU, SPLC, ADL - have become extremely partisan. Even tech groups like the EFF, Tor, and Mozilla are getting involved in abortion and climate change debates now.                                                                                                                                                                                                                                                                                                                                                                                                                                                                                                   |0.3612   |5    |nonprofit organization claim objective aclu splc adl extremely partisan tech group like eff tor mozilla getting involve abortion climate change debate                                                                                                                                                                                                                                                                            |\n",
      "|comment|ik7442o|2qh1i       |askreddit           |false         |1660438544 |\"There's only been twice in my life time that I can remember where facts have led to policy has led to action and resulted in real change globally. Y2K and CFCs in aerosol cans (ozone layer). The first one was a necessary self preservation exercise for corporations but the second one still blows me away at how universally it was adopted and so quickly resulted in reversing the damage, especially as there was very little \"\"benefit\"\" especially compared to climate change.\"                                                                                                                                                                                                                                       |-0.0828  |10   |twice life time remember fact lead policy lead action result real change globally y2 k cfcs aerosol can ozone layer necessary self preservation exercise corporation second blow away universally adopt quickly result reverse damage especially little benefit especially compare climate change                                                                                                                                 |\n",
      "|comment|imch2wv|2ql09       |pixelart            |false         |1661832131 |Good climate change comparison. Really put climate deniers in their place.                                                                                                                                                                                                                                                                                                                                                                                                                                                                                                                                                                                                                                                        |0.1372   |1    |good climate change comparison climate denier place                                                                                                                                                                                                                                                                                                                                                                               |\n",
      "|comment|il80umt|9uno1       |murderbywords       |false         |1661106433 |I think that they did.  It's because of idiots who think like this that millions - of not billions - of people could die as a result of climate change.                                                                                                                                                                                                                                                                                                                                                                                                                                                                                                                                                                           |-0.34    |1    |think  idiot think like million not billion people die result climate change                                                                                                                                                                                                                                                                                                                                                      |\n",
      "|comment|ikaldzx|3fuwj       |askthe_donald       |false         |1660507425 |Man made climate change is an absolute hoax. The richest people get behind the scam to gain access to the most prime real estate. Some fool believing this fraudulent theory sold their exclusive homes, only to have the proprietor of the hoax come in and buy them out. I don’t know why people keep believing these snake oil selling, carpet baggers. The national weather service cannot reliably, or accurately predict the weather coming in two days, let alone someone saying what it’s going to be like in 50 years.                                                                                                                                                                                                   |-0.6369  |13   |man climate change absolute hoax rich people scam gain access prime real estate fool believe fraudulent theory sell exclusive home proprietor hoax come buy know people believe snake oil selling carpet bagger national weather service not reliably accurately predict weather come day let say go like 50 year                                                                                                                 |\n",
      "|comment|iix1mao|2so8u       |thebrewery          |false         |1659622018 |The 2021 grain harvest was pretty bad quality. Kernels didn't ripen well and protein content was really high if I'm remembering correctly. With climate change this may become a trend along with the occasional crop failure becoming more and more common. Water shortages and rationing will also become more common and brewing will likely take hits, potentially shutting down breweries as they lose profitably and owners cash out. As much as we may hate to admit it beer, especially craft beer, is a luxury item and it will likely die off as resources become scarce. Also the working conditions in breweries are not super comfortable in heat waves and the pay is typically sub-par for a physically taxing job.|-0.9592  |7    |2021 grain harvest pretty bad quality kernel ripen protein content high remember correctly climate change trend occasional crop failure common water shortage rationing common brewing likely hit potentially shut brewery lose profitably owner cash hate admit beer especially craft beer luxury item likely die resource scarce work condition brewery not super comfortable heat wave pay typically sub par physically tax job|\n",
      "+-------+-------+------------+--------------------+--------------+-----------+----------------------------------------------------------------------------------------------------------------------------------------------------------------------------------------------------------------------------------------------------------------------------------------------------------------------------------------------------------------------------------------------------------------------------------------------------------------------------------------------------------------------------------------------------------------------------------------------------------------------------------------------------------------------------------------------------------------------------------+---------+-----+----------------------------------------------------------------------------------------------------------------------------------------------------------------------------------------------------------------------------------------------------------------------------------------------------------------------------------------------------------------------------------------------------------------------------------+\n",
      "only showing top 10 rows\n",
      "\n"
     ]
    },
    {
     "name": "stderr",
     "output_type": "stream",
     "text": [
      "                                                                                \r"
     ]
    }
   ],
   "source": [
    "\n",
    "# Apply the UDF to create a new column\n",
    "clean_df_2 = clean_df_1.withColumn('processed_body', preprocess_udf(col('body')))\n",
    "clean_df_2.show(n=10, truncate=False)"
   ]
  },
  {
   "cell_type": "code",
   "execution_count": 16,
   "metadata": {},
   "outputs": [],
   "source": [
    "def create_label(sentiment):\n",
    "    if float(sentiment) < -0.05:\n",
    "        return -1\n",
    "    elif float(sentiment) >= -0.05 and float(sentiment) <= 0.05:\n",
    "        return 0\n",
    "    else:\n",
    "        return 1\n",
    "\n",
    "create_label_udf = udf(create_label, IntegerType())\n",
    "\n"
   ]
  },
  {
   "cell_type": "code",
   "execution_count": 17,
   "metadata": {},
   "outputs": [],
   "source": [
    "clean_df_3 = clean_df_2.withColumn('label', create_label_udf(col('sentiment')))\n",
    "# Count occurrences of each subreddit_name and order by count in descending order\n",
    "subreddit_counts = clean_df_3.groupBy('subreddit_name') \\\n",
    "    .count() \\\n",
    "    .orderBy('count', ascending=False)\n",
    "\n",
    "# Show the results\n",
    "\n"
   ]
  },
  {
   "cell_type": "code",
   "execution_count": 18,
   "metadata": {},
   "outputs": [],
   "source": [
    "# print(\"Most common subreddits:\")\n",
    "# subreddit_counts.show(10, truncate=False)"
   ]
  },
  {
   "cell_type": "code",
   "execution_count": 19,
   "metadata": {},
   "outputs": [],
   "source": [
    "# # If you need the total number of unique subreddits\n",
    "# unique_subreddits = subreddit_counts.count()\n",
    "# print(f\"\\nTotal number of unique subreddits: {unique_subreddits}\")"
   ]
  },
  {
   "cell_type": "code",
   "execution_count": 20,
   "metadata": {},
   "outputs": [],
   "source": [
    "# subreddit_counts.filter(subreddit_counts['subreddit_name'] == 'climate').show()\n",
    "clean_df_3 = clean_df_3.withColumn(\"sentiment\", col(\"sentiment\").cast(DoubleType()))\n"
   ]
  },
  {
   "cell_type": "code",
   "execution_count": 21,
   "metadata": {},
   "outputs": [],
   "source": [
    "\n",
    "# print(\"At tokenizer\")\n",
    "# # Tokenize comment text\n",
    "# tokenizer = Tokenizer(inputCol=\"processed_body\", outputCol=\"words\")\n",
    "\n",
    "# # Transform words into numerical features\n",
    "# print(\"At hashingTF\")\n",
    "# hashingTF = HashingTF(inputCol=\"words\", outputCol=\"features\", numFeatures=10000)\n",
    "\n",
    "# # Define the model\n",
    "# print(\"At linear regression\")\n",
    "# lr = LinearRegression(featuresCol=\"features\", labelCol=\"sentiment\")\n",
    "\n",
    "# # Create a pipeline\n",
    "# print(\"At pipeline\")\n",
    "# pipeline = Pipeline(stages=[tokenizer, hashingTF, lr])\n",
    "\n",
    "# # Split the data\n",
    "# print(\"Data split\")\n",
    "# (train_data, test_data) = clean_df_3.randomSplit([0.01, 0.01])\n",
    "\n",
    "# # Train the model\n",
    "# print(\"model traiing\")\n",
    "# model = pipeline.fit(train_data)\n",
    "\n",
    "# # Make predictions\n",
    "# print(\"Predictions\")\n",
    "# predictions = model.transform(test_data)\n",
    "\n",
    "# # Evaluate the model\n",
    "# print(\"Mordel eval\")\n",
    "# evaluator = RegressionEvaluator(labelCol=\"sentiment\", predictionCol=\"prediction\", metricName=\"rmse\")\n",
    "# rmse = evaluator.evaluate(predictions)\n",
    "# print(\"Root Mean Squared Error (RMSE) on test data =\", rmse)\n"
   ]
  },
  {
   "cell_type": "markdown",
   "metadata": {},
   "source": [
    "## Spark Warehouse\n",
    "\n",
    "just using whatever Kai put down for spark warehousing "
   ]
  },
  {
   "cell_type": "code",
   "execution_count": 22,
   "metadata": {},
   "outputs": [
    {
     "data": {
      "text/plain": [
       "DataFrame[]"
      ]
     },
     "execution_count": 22,
     "metadata": {},
     "output_type": "execute_result"
    }
   ],
   "source": [
    "spark.sql(\"CREATE DATABASE reddit_db\") "
   ]
  },
  {
   "cell_type": "code",
   "execution_count": 23,
   "metadata": {},
   "outputs": [
    {
     "name": "stdout",
     "output_type": "stream",
     "text": [
      "+---------+\n",
      "|namespace|\n",
      "+---------+\n",
      "|  default|\n",
      "|reddit_db|\n",
      "+---------+\n",
      "\n"
     ]
    }
   ],
   "source": [
    "spark.sql(\"SHOW DATABASES\").show() # check that reddit_db is in here"
   ]
  },
  {
   "cell_type": "code",
   "execution_count": 24,
   "metadata": {},
   "outputs": [
    {
     "name": "stdout",
     "output_type": "stream",
     "text": [
      "+---------+---------+-----------+\n",
      "|namespace|tableName|isTemporary|\n",
      "+---------+---------+-----------+\n",
      "+---------+---------+-----------+\n",
      "\n"
     ]
    }
   ],
   "source": [
    "spark.sql(\"SHOW TABLES\").show() # should be empty tables"
   ]
  },
  {
   "cell_type": "code",
   "execution_count": 25,
   "metadata": {},
   "outputs": [
    {
     "data": {
      "text/plain": [
       "DataFrame[]"
      ]
     },
     "execution_count": 25,
     "metadata": {},
     "output_type": "execute_result"
    }
   ],
   "source": [
    "spark.sql(\"DROP TABLE IF EXISTS reddit_db.comments\")"
   ]
  },
  {
   "cell_type": "code",
   "execution_count": 26,
   "metadata": {},
   "outputs": [
    {
     "data": {
      "text/plain": [
       "DataFrame[]"
      ]
     },
     "execution_count": 26,
     "metadata": {},
     "output_type": "execute_result"
    }
   ],
   "source": [
    "spark.sql(\"\"\"\n",
    "CREATE TABLE IF NOT EXISTS reddit_db.comments (\n",
    "    `type` STRING,\n",
    "    `id` STRING,\n",
    "    `subreddit_id` STRING,\n",
    "    `subreddit_name` STRING,\n",
    "    `subreddit_nsfw` STRING,\n",
    "    `created_utc` STRING,\n",
    "    `body` STRING,\n",
    "    `sentiment` STRING,\n",
    "    `score` STRING,\n",
    "    `processed_body` STRING,\n",
    "    `label` STRING\n",
    ")\n",
    "USING PARQUET\n",
    "\"\"\")"
   ]
  },
  {
   "cell_type": "code",
   "execution_count": 27,
   "metadata": {},
   "outputs": [
    {
     "name": "stdout",
     "output_type": "stream",
     "text": [
      "+---------+---------+-----------+\n",
      "|namespace|tableName|isTemporary|\n",
      "+---------+---------+-----------+\n",
      "+---------+---------+-----------+\n",
      "\n"
     ]
    }
   ],
   "source": [
    "spark.sql(\"SHOW TABLES\").show() # should be updated to have one table now"
   ]
  },
  {
   "cell_type": "code",
   "execution_count": 28,
   "metadata": {},
   "outputs": [
    {
     "name": "stderr",
     "output_type": "stream",
     "text": [
      "[Stage 7:>                                                          (0 + 1) / 1]\r"
     ]
    },
    {
     "name": "stdout",
     "output_type": "stream",
     "text": [
      "+-------+-------+------------+--------------------+--------------+-----------+------------------------------------------------------------------------------------------------------------------------------------------------------------------------------------------------------------------------------------------------------------------------------------------------------------------------------------------------------------------------------------------------------------------------------------------------------------------------------------------------------------------------------------------------------------------------------+---------+-----+-------------------------------------------------------------------------------------------------------------------------------------------------------------------------------------------------------------------------------------------------------------------------------------------------------------------------------+-----+\n",
      "|type   |id     |subreddit_id|subreddit_name      |subreddit_nsfw|created_utc|body                                                                                                                                                                                                                                                                                                                                                                                                                                                                                                                                                                          |sentiment|score|processed_body                                                                                                                                                                                                                                                                                                                 |label|\n",
      "+-------+-------+------------+--------------------+--------------+-----------+------------------------------------------------------------------------------------------------------------------------------------------------------------------------------------------------------------------------------------------------------------------------------------------------------------------------------------------------------------------------------------------------------------------------------------------------------------------------------------------------------------------------------------------------------------------------------+---------+-----+-------------------------------------------------------------------------------------------------------------------------------------------------------------------------------------------------------------------------------------------------------------------------------------------------------------------------------+-----+\n",
      "|comment|ilzq6wi|2cn1kk      |confidentlyincorrect|false         |1661601318 |Climate change is a civilization ender, are you thick in the skull? We’re killing wild animals because we can’t keep our greed to ourselves and overpopulation is a contributor to that. Even if you don’t care about the animals, the animals are the ones keeping this planet alive, without animals our forests will die, our waters will become poison and our air will become toxic. It’s either people get rid of their greed or we have less greedy people (people in general) and the only solution is less people since nobody will sacrifice their mass consumption.|-0.9023  |3    |climate change civilization ender thick skull kill wild animal greed overpopulation contributor care animal animal one keep planet alive animal forest die water poison air toxic people rid greed greedy people people general solution people sacrifice mass consumption                                                     |-1   |\n",
      "|comment|ijh601l|2qh4r       |conspiracy          |false         |1659984481 |As oil production declines people will compete for the remaining supply driving prices up and causing a vast wealth transfer to the energy producers. By reframing the issue as climate change and charging a huge co2 tax on everything western governments can capture that wealth transfer for themselves - ostensibly to reinvest in alternative energy production and more effecient use of energy. Or maybe just to make their alt energy and green washing friends and patrons rich.                                                                                   |0.9674   |0    |oil production decline people compete remain supply drive price cause vast wealth transfer energy producer reframe issue climate change charge huge co2 tax western government capture wealth transfer ostensibly reinvest alternative energy production effecient use energy maybe alt energy green washing friend patron rich|1    |\n",
      "|comment|ij23fxm|2r73k       |politicaldebate     |false         |1659709788 |Mc Donald's is a fast food company, you need to cook food... with a oven.... witch requires gas. Its really not concerning, even if we completely got rid of carbon emissions it wouldn't make a difference on climate change.                                                                                                                                                                                                                                                                                                                                                |-0.3612  |1    |mc donald fast food company need cook food oven witch require gas not concern completely get rid carbon emission difference climate change                                                                                                                                                                                     |-1   |\n",
      "|comment|igyuukm|2qh13       |worldnews           |false         |1658351775 |Climate change is the tip of the melting iceberg of things that would have been different if Gore had become president.                                                                                                                                                                                                                                                                                                                                                                                                                                                       |0.0      |2    |climate change tip melt iceberg thing different gore president                                                                                                                                                                                                                                                                 |0    |\n",
      "|comment|iioq9jv|2qndt       |republican          |false         |1659469914 |All the nonprofit organizations that claim to be objective - ACLU, SPLC, ADL - have become extremely partisan. Even tech groups like the EFF, Tor, and Mozilla are getting involved in abortion and climate change debates now.                                                                                                                                                                                                                                                                                                                                               |0.3612   |5    |nonprofit organization claim objective aclu splc adl extremely partisan tech group like eff tor mozilla getting involve abortion climate change debate                                                                                                                                                                         |1    |\n",
      "+-------+-------+------------+--------------------+--------------+-----------+------------------------------------------------------------------------------------------------------------------------------------------------------------------------------------------------------------------------------------------------------------------------------------------------------------------------------------------------------------------------------------------------------------------------------------------------------------------------------------------------------------------------------------------------------------------------------+---------+-----+-------------------------------------------------------------------------------------------------------------------------------------------------------------------------------------------------------------------------------------------------------------------------------------------------------------------------------+-----+\n",
      "only showing top 5 rows\n",
      "\n"
     ]
    },
    {
     "name": "stderr",
     "output_type": "stream",
     "text": [
      "                                                                                \r"
     ]
    }
   ],
   "source": [
    "clean_df_3.show(5, truncate=False)"
   ]
  },
  {
   "cell_type": "code",
   "execution_count": 29,
   "metadata": {},
   "outputs": [],
   "source": [
    "# align the columns - spark only accepts '_' but the dataset uses '.'\n",
    "df_aligned = clean_df_3\n",
    "\n",
    "# this is lowkey still transformation?"
   ]
  },
  {
   "cell_type": "code",
   "execution_count": 30,
   "metadata": {},
   "outputs": [
    {
     "name": "stdout",
     "output_type": "stream",
     "text": [
      "root\n",
      " |-- type: string (nullable = true)\n",
      " |-- id: string (nullable = true)\n",
      " |-- subreddit_id: string (nullable = true)\n",
      " |-- subreddit_name: string (nullable = true)\n",
      " |-- subreddit_nsfw: string (nullable = true)\n",
      " |-- created_utc: string (nullable = true)\n",
      " |-- body: string (nullable = true)\n",
      " |-- sentiment: double (nullable = true)\n",
      " |-- score: string (nullable = true)\n",
      " |-- processed_body: string (nullable = true)\n",
      " |-- label: integer (nullable = true)\n",
      "\n"
     ]
    }
   ],
   "source": [
    "df_aligned.printSchema() # double check\n"
   ]
  },
  {
   "cell_type": "code",
   "execution_count": 31,
   "metadata": {},
   "outputs": [
    {
     "name": "stdout",
     "output_type": "stream",
     "text": [
      "+---------+---------+-----------+\n",
      "|namespace|tableName|isTemporary|\n",
      "+---------+---------+-----------+\n",
      "+---------+---------+-----------+\n",
      "\n"
     ]
    }
   ],
   "source": [
    "spark.sql(\"SHOW TABLES\").show()"
   ]
  },
  {
   "cell_type": "code",
   "execution_count": 32,
   "metadata": {},
   "outputs": [
    {
     "name": "stderr",
     "output_type": "stream",
     "text": [
      "[Stage 10:>                                                         (0 + 1) / 1]\r"
     ]
    },
    {
     "name": "stdout",
     "output_type": "stream",
     "text": [
      "+-------+-------+------------+--------------------+--------------+-----------+------------------------------------------------------------------------------------------------------------------------------------------------------------------------------------------------------------------------------------------------------------------------------------------------------------------------------------------------------------------------------------------------------------------------------------------------------------------------------------------------------------------------------------------------------------------------------+---------+-----+-------------------------------------------------------------------------------------------------------------------------------------------------------------------------------------------------------------------------------------------------------------------------------------------------------------------------------+-----+\n",
      "|type   |id     |subreddit_id|subreddit_name      |subreddit_nsfw|created_utc|body                                                                                                                                                                                                                                                                                                                                                                                                                                                                                                                                                                          |sentiment|score|processed_body                                                                                                                                                                                                                                                                                                                 |label|\n",
      "+-------+-------+------------+--------------------+--------------+-----------+------------------------------------------------------------------------------------------------------------------------------------------------------------------------------------------------------------------------------------------------------------------------------------------------------------------------------------------------------------------------------------------------------------------------------------------------------------------------------------------------------------------------------------------------------------------------------+---------+-----+-------------------------------------------------------------------------------------------------------------------------------------------------------------------------------------------------------------------------------------------------------------------------------------------------------------------------------+-----+\n",
      "|comment|ilzq6wi|2cn1kk      |confidentlyincorrect|false         |1661601318 |Climate change is a civilization ender, are you thick in the skull? We’re killing wild animals because we can’t keep our greed to ourselves and overpopulation is a contributor to that. Even if you don’t care about the animals, the animals are the ones keeping this planet alive, without animals our forests will die, our waters will become poison and our air will become toxic. It’s either people get rid of their greed or we have less greedy people (people in general) and the only solution is less people since nobody will sacrifice their mass consumption.|-0.9023  |3    |climate change civilization ender thick skull kill wild animal greed overpopulation contributor care animal animal one keep planet alive animal forest die water poison air toxic people rid greed greedy people people general solution people sacrifice mass consumption                                                     |-1   |\n",
      "|comment|ijh601l|2qh4r       |conspiracy          |false         |1659984481 |As oil production declines people will compete for the remaining supply driving prices up and causing a vast wealth transfer to the energy producers. By reframing the issue as climate change and charging a huge co2 tax on everything western governments can capture that wealth transfer for themselves - ostensibly to reinvest in alternative energy production and more effecient use of energy. Or maybe just to make their alt energy and green washing friends and patrons rich.                                                                                   |0.9674   |0    |oil production decline people compete remain supply drive price cause vast wealth transfer energy producer reframe issue climate change charge huge co2 tax western government capture wealth transfer ostensibly reinvest alternative energy production effecient use energy maybe alt energy green washing friend patron rich|1    |\n",
      "|comment|ij23fxm|2r73k       |politicaldebate     |false         |1659709788 |Mc Donald's is a fast food company, you need to cook food... with a oven.... witch requires gas. Its really not concerning, even if we completely got rid of carbon emissions it wouldn't make a difference on climate change.                                                                                                                                                                                                                                                                                                                                                |-0.3612  |1    |mc donald fast food company need cook food oven witch require gas not concern completely get rid carbon emission difference climate change                                                                                                                                                                                     |-1   |\n",
      "|comment|igyuukm|2qh13       |worldnews           |false         |1658351775 |Climate change is the tip of the melting iceberg of things that would have been different if Gore had become president.                                                                                                                                                                                                                                                                                                                                                                                                                                                       |0.0      |2    |climate change tip melt iceberg thing different gore president                                                                                                                                                                                                                                                                 |0    |\n",
      "|comment|iioq9jv|2qndt       |republican          |false         |1659469914 |All the nonprofit organizations that claim to be objective - ACLU, SPLC, ADL - have become extremely partisan. Even tech groups like the EFF, Tor, and Mozilla are getting involved in abortion and climate change debates now.                                                                                                                                                                                                                                                                                                                                               |0.3612   |5    |nonprofit organization claim objective aclu splc adl extremely partisan tech group like eff tor mozilla getting involve abortion climate change debate                                                                                                                                                                         |1    |\n",
      "+-------+-------+------------+--------------------+--------------+-----------+------------------------------------------------------------------------------------------------------------------------------------------------------------------------------------------------------------------------------------------------------------------------------------------------------------------------------------------------------------------------------------------------------------------------------------------------------------------------------------------------------------------------------------------------------------------------------+---------+-----+-------------------------------------------------------------------------------------------------------------------------------------------------------------------------------------------------------------------------------------------------------------------------------------------------------------------------------+-----+\n",
      "only showing top 5 rows\n",
      "\n"
     ]
    },
    {
     "name": "stderr",
     "output_type": "stream",
     "text": [
      "                                                                                \r"
     ]
    }
   ],
   "source": [
    "df_aligned.show(n=5, truncate=False)"
   ]
  },
  {
   "cell_type": "code",
   "execution_count": null,
   "metadata": {},
   "outputs": [],
   "source": [
    "df_aligned.write.insertInto(\"reddit_db.comments\", overwrite=False) # insert data from csv/df into spark table"
   ]
  },
  {
   "cell_type": "code",
   "execution_count": 34,
   "metadata": {},
   "outputs": [
    {
     "name": "stdout",
     "output_type": "stream",
     "text": [
      "+----+---+------------+--------------+--------------+-----------+----+---------+-----+--------------+-----+\n",
      "|type| id|subreddit_id|subreddit_name|subreddit_nsfw|created_utc|body|sentiment|score|processed_body|label|\n",
      "+----+---+------------+--------------+--------------+-----------+----+---------+-----+--------------+-----+\n",
      "+----+---+------------+--------------+--------------+-----------+----+---------+-----+--------------+-----+\n",
      "\n"
     ]
    }
   ],
   "source": [
    "spark.sql(\"SELECT * FROM reddit_db.comments LIMIT 100\").show() #validate the table"
   ]
  },
  {
   "cell_type": "code",
   "execution_count": null,
   "metadata": {},
   "outputs": [
    {
     "name": "stderr",
     "output_type": "stream",
     "text": [
      "[Stage 13:> (0 + 8) / 100][Stage 14:>  (0 + 0) / 31][Stage 15:>  (0 + 0) / 31]\r"
     ]
    }
   ],
   "source": [
    "df_tokens = df_aligned.withColumn(\"words\", split(col(\"body\"), r\"\\s+\"))\n",
    "df_tokens = df_tokens.filter(df_tokens[\"words\"].isNotNull())\n",
    "df_tokens.show(5) #check if words column created"
   ]
  },
  {
   "cell_type": "code",
   "execution_count": null,
   "metadata": {},
   "outputs": [],
   "source": [
    "remover = StopWordsRemover(inputCol=\"words\", outputCol=\"filtered_words\")"
   ]
  },
  {
   "cell_type": "code",
   "execution_count": null,
   "metadata": {},
   "outputs": [],
   "source": [
    "df_aligned_words = remover.transform(df_tokens)\n",
    "df_aligned_words.show(100) "
   ]
  },
  {
   "cell_type": "code",
   "execution_count": null,
   "metadata": {},
   "outputs": [],
   "source": [
    "# explode - helps so that each word appears in a separate row so we can count frequency\n",
    "df_exploded = df_aligned_words.withColumn(\"word\", explode(col(\"filtered_words\")))\n",
    "df_exploded.show(100)"
   ]
  },
  {
   "cell_type": "code",
   "execution_count": null,
   "metadata": {},
   "outputs": [],
   "source": [
    "df_word_count = df_exploded.groupBy(\"word\").count().orderBy(\"count\", ascending=False)\n",
    "df_word_count.show(10)"
   ]
  },
  {
   "cell_type": "code",
   "execution_count": null,
   "metadata": {},
   "outputs": [],
   "source": [
    "spark.stop()"
   ]
  }
 ],
 "metadata": {
  "kernelspec": {
   "display_name": "base",
   "language": "python",
   "name": "python3"
  },
  "language_info": {
   "codemirror_mode": {
    "name": "ipython",
    "version": 3
   },
   "file_extension": ".py",
   "mimetype": "text/x-python",
   "name": "python",
   "nbconvert_exporter": "python",
   "pygments_lexer": "ipython3",
   "version": "3.12.2"
  }
 },
 "nbformat": 4,
 "nbformat_minor": 2
}
