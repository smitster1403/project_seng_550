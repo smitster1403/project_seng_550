{
 "cells": [
  {
   "cell_type": "markdown",
   "metadata": {},
   "source": [
    "# Analysis of Reddit Comments on Climate Change\n",
    "This notebook analyzes Reddit comments on climate change. Our team's goal is to: ...\n",
    "\n",
    "SENG 550 Final Project\n",
    "- Monmoy Maahdie\n",
    "- Smitkumar Saraiya\n",
    "- Farhan LASTNAME\n",
    "- Kai Ferrer"
   ]
  },
  {
   "cell_type": "markdown",
   "metadata": {},
   "source": [
    "## Preliminary requirements:\n",
    "- Download The Reddit Climate Change Dataset (https://www.kaggle.com/datasets/pavellexyr/the-reddit-climate-change-dataset?resource=download) and add to your root directory.\n",
    "\n"
   ]
  },
  {
   "cell_type": "markdown",
   "metadata": {},
   "source": [
    "## 1. Create an ApacheSpark session"
   ]
  },
  {
   "cell_type": "code",
   "execution_count": 89,
   "metadata": {},
   "outputs": [],
   "source": [
    "import pandas as pd\n",
    "import numpy as np\n",
    "import matplotlib.pyplot as plt\n",
    "from pyspark.sql import SparkSession\n",
    "from pyspark.sql.functions import collect_list\n",
    "# import pyspark\n",
    "from collections import Counter\n",
    "from pyspark.sql.functions import col, length, regexp_replace\n",
    "from pyspark.sql.types import DoubleType"
   ]
  },
  {
   "cell_type": "code",
   "execution_count": null,
   "metadata": {},
   "outputs": [],
   "source": [
    "# Initialize spark session\n",
    "spark = SparkSession.builder \\\n",
    "    .appName(\"Reddit Climate Change Comments\") \\\n",
    "    .config(\"spark.driver.memory\", \"4g\") \\\n",
    "    .config(\"spark.executor.memory\", \"8g\") \\\n",
    "    .config(\"spark.sql.shuffle.partitions\", \"100\") \\\n",
    "    .getOrCreate()"
   ]
  },
  {
   "cell_type": "markdown",
   "metadata": {},
   "source": [
    "## 2. Load Data"
   ]
  },
  {
   "cell_type": "code",
   "execution_count": null,
   "metadata": {},
   "outputs": [],
   "source": [
    "# Create dataframe\n",
    "df = spark.read.csv(\"the-reddit-climate-change-dataset-comments.csv\", header=True, inferSchema=True)\n",
    "df = df.repartition(100)  #  increase the number of partitions for large datasets - idk what to put \n",
    "df.show(5, truncate=False) # checking the dataset by displaying first 5 rows\n",
    "df_original = df # save original dataset\n"
   ]
  },
  {
   "cell_type": "markdown",
   "metadata": {},
   "source": [
    "## 3. Data Cleaning\n",
    "The dataset will be cleaned by\n",
    "- Renaming columns \n",
    "- Removing rows with NULL values\n",
    "- ???\n",
    "- ???"
   ]
  },
  {
   "cell_type": "code",
   "execution_count": null,
   "metadata": {},
   "outputs": [],
   "source": [
    "# Fix the column names first because they use 'subreddit.id' and use a period\n",
    "# for better readability we want to change it to \"subreddit_id\", etc.\n",
    "new_columns = [col_name.replace('.', '_') for col_name in df.columns]\n",
    "df = df.toDF(*new_columns)\n",
    "df.show(5, truncate=False)"
   ]
  },
  {
   "cell_type": "markdown",
   "metadata": {},
   "source": [
    "### Remove rows with NULL Values"
   ]
  },
  {
   "cell_type": "code",
   "execution_count": null,
   "metadata": {},
   "outputs": [],
   "source": [
    "# Remove rows with NULL values\n",
    "df_clean = df.dropna()\n",
    "df_clean.show()\n"
   ]
  },
  {
   "cell_type": "code",
   "execution_count": null,
   "metadata": {},
   "outputs": [],
   "source": [
    "row_count1 = df_clean.count() \n",
    "print(f\"Cleaned dataset rows: {row_count1}\")\n"
   ]
  },
  {
   "cell_type": "markdown",
   "metadata": {},
   "source": [
    "### Fix data types that are incorrect (?)\n",
    "There's an issue where basically the \"body\" feeds into the other columns. See output below."
   ]
  },
  {
   "cell_type": "code",
   "execution_count": null,
   "metadata": {},
   "outputs": [],
   "source": [
    "df_clean.select(\"body\").distinct().show(1000)\n",
    "# TRYING TO FIX THIS\n",
    "# types = df_clean.select(\"type\").rdd.flatMap(lambda x : x).collect()\n",
    "# counter = Counter(types)\n",
    "# print(counter.get())"
   ]
  },
  {
   "cell_type": "code",
   "execution_count": null,
   "metadata": {},
   "outputs": [],
   "source": [
    "# for x, y in counter.most_common():\n",
    "#     print(f\"{x} : {y}\")\n",
    "df_clean.filter(df_clean[\"type\"] == \"comment\").show(1000)"
   ]
  },
  {
   "cell_type": "code",
   "execution_count": null,
   "metadata": {},
   "outputs": [],
   "source": [
    "df_clean_2 = df_clean.drop(\"permalink\")\n",
    "df_clean_2.filter((df_clean_2[\"type\"] == \"comment\")).show(n=1000, truncate=False)"
   ]
  },
  {
   "cell_type": "code",
   "execution_count": null,
   "metadata": {},
   "outputs": [],
   "source": [
    "clean_df = df_clean_2.filter(\n",
    "    col(\"sentiment\").cast(DoubleType()).isNotNull() &\n",
    "    col(\"score\").cast(DoubleType()).isNotNull()\n",
    ")\n",
    "\n",
    "# \"Problematic\" data - where sentiment or score contains text/invalid values\n",
    "problematic_df = df_clean_2.filter(\n",
    "    col(\"sentiment\").cast(DoubleType()).isNull() |\n",
    "    col(\"score\").cast(DoubleType()).isNull()\n",
    ")\n",
    "\n"
   ]
  },
  {
   "cell_type": "code",
   "execution_count": null,
   "metadata": {},
   "outputs": [],
   "source": [
    "# Verify the separation\n",
    "print(\"Clean data sample:\")\n",
    "clean_df.show(n=5, truncate=False)\n",
    "\n",
    "print(\"\\nProblematic data sample:\")\n",
    "problematic_df.show(n=5, truncate=False)"
   ]
  },
  {
   "cell_type": "code",
   "execution_count": null,
   "metadata": {},
   "outputs": [],
   "source": [
    "\n",
    "# Get counts of each\n",
    "print(f\"\\nClean records: {clean_df.count()}\")\n",
    "print(f\"Problematic records: {problematic_df.count()}\")"
   ]
  },
  {
   "cell_type": "code",
   "execution_count": null,
   "metadata": {},
   "outputs": [],
   "source": [
    "df_clean_2.filter((df_clean_2[\"type\"] == \"comment\") & (df_clean_2[\"id\"] == \"c0i9om0\")).show(truncate=False)"
   ]
  },
  {
   "cell_type": "markdown",
   "metadata": {},
   "source": [
    "### Remove Duplicate Data (?) - cant really do much until the top is fixed"
   ]
  },
  {
   "cell_type": "code",
   "execution_count": null,
   "metadata": {},
   "outputs": [],
   "source": [
    "# Check for number of duplicates\n",
    "df_clean.groupBy(\"id\").count().filter(\"count > 1\").show() \n"
   ]
  },
  {
   "cell_type": "code",
   "execution_count": 9,
   "metadata": {},
   "outputs": [],
   "source": [
    "# Remove duplicates based on columns that have the same inputs in 'id' (this would be the most unique)\n",
    "df_clean = df_clean.dropDuplicates([\"id\"]) \n"
   ]
  },
  {
   "cell_type": "code",
   "execution_count": null,
   "metadata": {},
   "outputs": [],
   "source": [
    "row_count2 = df_clean.count() \n",
    "print(f\"Dropped dataset rows: {row_count2}\") # Check updated if any duplicates were rlly dropped"
   ]
  },
  {
   "cell_type": "code",
   "execution_count": 11,
   "metadata": {},
   "outputs": [],
   "source": [
    "# data = pd.read_csv('the-reddit-climate-change-dataset-comments.csv')\n",
    "# data = data.dropna() # drop any rows with missing values"
   ]
  },
  {
   "cell_type": "code",
   "execution_count": 12,
   "metadata": {},
   "outputs": [],
   "source": [
    "# counter = Counter(data['subreddit.nsfw'])\n",
    "# print(counter)\n",
    "# print(data['score'])\n",
    "# print(data['body'].iloc[20340])"
   ]
  },
  {
   "cell_type": "code",
   "execution_count": null,
   "metadata": {},
   "outputs": [],
   "source": [
    "df_clean.select(\"type\").distinct().show(200)\n"
   ]
  },
  {
   "cell_type": "markdown",
   "metadata": {},
   "source": [
    "## 4. Data Transformation \n",
    "Not sure yet what to do here idk"
   ]
  },
  {
   "cell_type": "markdown",
   "metadata": {},
   "source": [
    "Check data of type \"comment\" only"
   ]
  },
  {
   "cell_type": "code",
   "execution_count": 13,
   "metadata": {},
   "outputs": [],
   "source": [
    "df_comments = df_clean.filter(df_clean[\"type\"] == \"comment\")"
   ]
  },
  {
   "cell_type": "code",
   "execution_count": null,
   "metadata": {},
   "outputs": [],
   "source": [
    "df_comments.show(5, truncate=False) # intermediary check to see if the filtered work\n"
   ]
  },
  {
   "cell_type": "code",
   "execution_count": null,
   "metadata": {},
   "outputs": [],
   "source": [
    "# count the number of rows with type \"comment\"\n",
    "print(f\"Number of rows with type 'comment': {df_comments.count()}\") # check to see if any rows were actually removed\n"
   ]
  },
  {
   "cell_type": "markdown",
   "metadata": {},
   "source": [
    "## 4. Create Spark tables\n",
    "idk if we need to do this really"
   ]
  },
  {
   "cell_type": "code",
   "execution_count": null,
   "metadata": {},
   "outputs": [],
   "source": [
    "# create spark database\n",
    "# NOTE: UNCOMMENT IF NOT CREATED YET, OTHERWISE COMMENT OUT IF CREATED ALREADY\n",
    "spark.sql(\"CREATE DATABASE reddit_db\") "
   ]
  },
  {
   "cell_type": "code",
   "execution_count": null,
   "metadata": {},
   "outputs": [],
   "source": [
    "spark.sql(\"SHOW DATABASES\").show() # check that reddit_db is in here\n"
   ]
  },
  {
   "cell_type": "code",
   "execution_count": null,
   "metadata": {},
   "outputs": [],
   "source": [
    "spark.sql(\"SHOW TABLES\").show() # should be empty tables"
   ]
  },
  {
   "cell_type": "code",
   "execution_count": null,
   "metadata": {},
   "outputs": [],
   "source": [
    "# Drop the table if it already exists\n",
    "# spark.sql(\"USE reddit_db\")\n",
    "# df_filtered.write.mode(\"overwrite\").saveAsTable(\"reddit_db.comments\")\n",
    "spark.sql(\"DROP TABLE IF EXISTS reddit_db.comments\")\n"
   ]
  },
  {
   "cell_type": "code",
   "execution_count": null,
   "metadata": {},
   "outputs": [],
   "source": [
    "spark.sql(\"\"\"\n",
    "CREATE TABLE IF NOT EXISTS reddit_db.comments (\n",
    "    `type` STRING,\n",
    "    `id` STRING,\n",
    "    `subreddit.id` STRING,\n",
    "    `subreddit.name` STRING,\n",
    "    `subreddit.nsfw` STRING,\n",
    "    `created_utc` STRING,\n",
    "    `permalink` STRING,\n",
    "    `body` STRING,\n",
    "    `sentiment` STRING,\n",
    "    `score` STRING\n",
    ")\n",
    "USING PARQUET\n",
    "\"\"\")"
   ]
  },
  {
   "cell_type": "code",
   "execution_count": null,
   "metadata": {},
   "outputs": [],
   "source": [
    "spark.sql(\"SHOW TABLES\").show() # should be updated to have one table now"
   ]
  },
  {
   "cell_type": "code",
   "execution_count": null,
   "metadata": {},
   "outputs": [],
   "source": [
    "df_comments.show(5, truncate=False)"
   ]
  },
  {
   "cell_type": "code",
   "execution_count": 23,
   "metadata": {},
   "outputs": [],
   "source": [
    "# align the columns - spark only accepts '_' but the dataset uses '.'\n",
    "df_aligned = df_comments \\\n",
    "    .withColumnRenamed(\"subreddit.id\", \"subreddit_id\") \\\n",
    "    .withColumnRenamed(\"subreddit.name\", \"subreddit_name\") \\\n",
    "    .withColumnRenamed(\"subreddit.nsfw\", \"subreddit_nsfw\")\n",
    "\n",
    "# this is lowkey still transformation?"
   ]
  },
  {
   "cell_type": "code",
   "execution_count": null,
   "metadata": {},
   "outputs": [],
   "source": [
    "df_aligned.printSchema() # double check\n"
   ]
  },
  {
   "cell_type": "code",
   "execution_count": null,
   "metadata": {},
   "outputs": [],
   "source": [
    "spark.sql(\"SHOW TABLES\").show()"
   ]
  },
  {
   "cell_type": "code",
   "execution_count": null,
   "metadata": {},
   "outputs": [],
   "source": [
    "df_aligned.write.insertInto(\"reddit_db.comments\", overwrite=False) # insert data from csv/df into spark table"
   ]
  },
  {
   "cell_type": "code",
   "execution_count": null,
   "metadata": {},
   "outputs": [],
   "source": [
    "spark.sql(\"SELECT * FROM reddit_db.comments LIMIT 100\").show() #validate the table"
   ]
  },
  {
   "cell_type": "code",
   "execution_count": 30,
   "metadata": {},
   "outputs": [],
   "source": [
    "from pyspark.sql.functions import col, split"
   ]
  },
  {
   "cell_type": "code",
   "execution_count": null,
   "metadata": {},
   "outputs": [],
   "source": [
    "df_tokens = df_aligned.withColumn(\"words\", split(col(\"body\"), r\"\\s+\"))\n",
    "df_tokens = df_tokens.filter(df_tokens[\"words\"].isNotNull())\n",
    "df_tokens.show(50) #check if words column created"
   ]
  },
  {
   "cell_type": "code",
   "execution_count": 33,
   "metadata": {},
   "outputs": [],
   "source": [
    "from pyspark.ml.feature import StopWordsRemover"
   ]
  },
  {
   "cell_type": "code",
   "execution_count": 34,
   "metadata": {},
   "outputs": [],
   "source": [
    "# init stopwordsremover\n",
    "remover = StopWordsRemover(inputCol=\"words\", outputCol=\"filtered_words\")"
   ]
  },
  {
   "cell_type": "code",
   "execution_count": null,
   "metadata": {},
   "outputs": [],
   "source": [
    "df_aligned_words = remover.transform(df_tokens)\n",
    "df_aligned_words.show(100) "
   ]
  },
  {
   "cell_type": "code",
   "execution_count": 36,
   "metadata": {},
   "outputs": [],
   "source": [
    "from pyspark.sql.functions import explode"
   ]
  },
  {
   "cell_type": "code",
   "execution_count": null,
   "metadata": {},
   "outputs": [],
   "source": [
    "# explode - helps so that each word appears in a separate row so we can count frequency\n",
    "df_exploded = df_aligned_words.withColumn(\"word\", explode(col(\"filtered_words\")))\n",
    "df_exploded.show(100)"
   ]
  },
  {
   "cell_type": "code",
   "execution_count": null,
   "metadata": {},
   "outputs": [],
   "source": [
    "df_word_count = df_exploded.groupBy(\"word\").count().orderBy(\"count\", ascending=False)\n",
    "df_word_count.show()"
   ]
  },
  {
   "cell_type": "code",
   "execution_count": null,
   "metadata": {},
   "outputs": [],
   "source": [
    "spark.stop()"
   ]
  }
 ],
 "metadata": {
  "kernelspec": {
   "display_name": "base",
   "language": "python",
   "name": "python3"
  },
  "language_info": {
   "codemirror_mode": {
    "name": "ipython",
    "version": 3
   },
   "file_extension": ".py",
   "mimetype": "text/x-python",
   "name": "python",
   "nbconvert_exporter": "python",
   "pygments_lexer": "ipython3",
   "version": "3.12.2"
  }
 },
 "nbformat": 4,
 "nbformat_minor": 2
}
