{
 "cells": [
  {
   "cell_type": "code",
   "execution_count": null,
   "metadata": {},
   "outputs": [],
   "source": [
    "import pandas as pd\n",
    "import numpy as np\n",
    "import matplotlib.pyplot as plt\n",
    "from pyspark.sql import SparkSession\n",
    "# import pyspark\n",
    "# from collections import Counters"
   ]
  },
  {
   "cell_type": "code",
   "execution_count": null,
   "metadata": {},
   "outputs": [],
   "source": [
    "# data = pd.read_csv('the-reddit-climate-change-dataset-comments.csv')\n",
    "# data = data.dropna() # drop any rows with missing values"
   ]
  },
  {
   "cell_type": "code",
   "execution_count": null,
   "metadata": {},
   "outputs": [],
   "source": [
    "# counter = Counter(data['subreddit.nsfw'])\n",
    "# print(counter)\n",
    "\n",
    "# print(data['score'])\n",
    "#print(data['body'].iloc[20340])"
   ]
  },
  {
   "cell_type": "code",
   "execution_count": null,
   "metadata": {},
   "outputs": [],
   "source": [
    "# initialize spark session\n",
    "spark = SparkSession.builder \\\n",
    "    .appName(\"Reddit Climate Change Comments\") \\\n",
    "    .config(\"spark.driver.memory\", \"4g\") \\\n",
    "    .config(\"spark.executor.memory\", \"8g\") \\\n",
    "    .config(\"spark.sql.shuffle.partitions\", \"100\") \\\n",
    "    .getOrCreate()"
   ]
  },
  {
   "cell_type": "code",
   "execution_count": null,
   "metadata": {},
   "outputs": [],
   "source": [
    "# create dataframe\n",
    "df = spark.read.csv(\"the-reddit-climate-change-dataset-comments.csv\", header=True, inferSchema=True)\n",
    "df = df.repartition(100)  # increase the number of partitions for large datasets\n",
    "df.show(5, truncate=False)\n",
    "\n",
    "df_original = df # save original dataset\n"
   ]
  },
  {
   "cell_type": "code",
   "execution_count": null,
   "metadata": {},
   "outputs": [],
   "source": [
    "# data exploration: initial rows and columns check\n",
    "row_count1 = df.count() \n",
    "print(f\"Initial dataset rows: {row_count1}\")\n",
    "print(f\"Initial dataset columns: {df.columns}\")"
   ]
  },
  {
   "cell_type": "code",
   "execution_count": null,
   "metadata": {},
   "outputs": [],
   "source": [
    "# -- clean dataset ---\n",
    "# clean?? dataset to only data of type 'comment'\n",
    "df_filtered = df.filter(df[\"type\"] == \"comment\")\n"
   ]
  },
  {
   "cell_type": "code",
   "execution_count": null,
   "metadata": {},
   "outputs": [],
   "source": [
    "df_filtered.show(5, truncate=False) # intermediary check to see if the filtered work\n"
   ]
  },
  {
   "cell_type": "code",
   "execution_count": null,
   "metadata": {},
   "outputs": [],
   "source": [
    "# count the number of rows with type \"comment\"\n",
    "print(f\"Number of rows with type 'comment': {df_filtered.count()}\") # check to see if any rows were actually removed\n"
   ]
  },
  {
   "cell_type": "code",
   "execution_count": null,
   "metadata": {},
   "outputs": [],
   "source": [
    "# create spark database\n",
    "# spark.sql(\"CREATE DATABASE reddit_db\") - UNCOMMENT IF NOT CREATED YET"
   ]
  },
  {
   "cell_type": "code",
   "execution_count": null,
   "metadata": {},
   "outputs": [],
   "source": [
    "spark.sql(\"SHOW DATABASES\").show() # check that reddit_db is in here\n"
   ]
  },
  {
   "cell_type": "code",
   "execution_count": null,
   "metadata": {},
   "outputs": [],
   "source": [
    "spark.sql(\"SHOW TABLES\").show() # should be empty tables"
   ]
  },
  {
   "cell_type": "code",
   "execution_count": null,
   "metadata": {},
   "outputs": [],
   "source": [
    "# Drop the table if it already exists\n",
    "# spark.sql(\"USE reddit_db\")\n",
    "# df_filtered.write.mode(\"overwrite\").saveAsTable(\"reddit_db.comments\")\n",
    "spark.sql(\"DROP TABLE IF EXISTS reddit_db.comments\")\n"
   ]
  },
  {
   "cell_type": "code",
   "execution_count": null,
   "metadata": {},
   "outputs": [],
   "source": [
    "spark.sql(\"\"\"\n",
    "CREATE TABLE IF NOT EXISTS reddit_db.comments (\n",
    "    `type` STRING,\n",
    "    `id` STRING,\n",
    "    `subreddit.id` STRING,\n",
    "    `subreddit.name` STRING,\n",
    "    `subreddit.nsfw` STRING,\n",
    "    `created_utc` STRING,\n",
    "    `permalink` STRING,\n",
    "    `body` STRING,\n",
    "    `sentiment` STRING,\n",
    "    `score` STRING\n",
    ")\n",
    "USING PARQUET\n",
    "\"\"\")"
   ]
  },
  {
   "cell_type": "code",
   "execution_count": null,
   "metadata": {},
   "outputs": [],
   "source": [
    "spark.sql(\"SHOW TABLES\").show() # should be updated to have one table now"
   ]
  },
  {
   "cell_type": "code",
   "execution_count": null,
   "metadata": {},
   "outputs": [],
   "source": [
    "df_filtered.show(5, truncate=False)"
   ]
  },
  {
   "cell_type": "code",
   "execution_count": null,
   "metadata": {},
   "outputs": [],
   "source": [
    "#df_filtered.printSchema()\n"
   ]
  },
  {
   "cell_type": "code",
   "execution_count": null,
   "metadata": {},
   "outputs": [],
   "source": [
    "#spark.sql(\"DESCRIBE reddit_db.comments\").show()\n",
    "# align the columns - spark only accepts '_' but the dataset uses '.'\n",
    "df_aligned = df_filtered \\\n",
    "    .withColumnRenamed(\"subreddit.id\", \"subreddit_id\") \\\n",
    "    .withColumnRenamed(\"subreddit.name\", \"subreddit_name\") \\\n",
    "    .withColumnRenamed(\"subreddit.nsfw\", \"subreddit_nsfw\")\n",
    "\n"
   ]
  },
  {
   "cell_type": "code",
   "execution_count": null,
   "metadata": {},
   "outputs": [],
   "source": [
    "df_aligned.printSchema() # double check\n"
   ]
  },
  {
   "cell_type": "code",
   "execution_count": null,
   "metadata": {},
   "outputs": [],
   "source": [
    "spark.sql(\"SHOW TABLES\").show()"
   ]
  },
  {
   "cell_type": "code",
   "execution_count": null,
   "metadata": {},
   "outputs": [],
   "source": [
    "df_aligned.write.insertInto(\"reddit_db.comments\", overwrite=False) # insert data from csv/df into spark table"
   ]
  },
  {
   "cell_type": "code",
   "execution_count": null,
   "metadata": {},
   "outputs": [],
   "source": [
    "spark.sql(\"SELECT * FROM reddit_db.comments LIMIT 5\").show() #validate the table"
   ]
  }
 ],
 "metadata": {
  "kernelspec": {
   "display_name": "Python 3",
   "language": "python",
   "name": "python3"
  },
  "language_info": {
   "codemirror_mode": {
    "name": "ipython",
    "version": 3
   },
   "file_extension": ".py",
   "mimetype": "text/x-python",
   "name": "python",
   "nbconvert_exporter": "python",
   "pygments_lexer": "ipython3",
   "version": "3.10.7"
  }
 },
 "nbformat": 4,
 "nbformat_minor": 2
}
