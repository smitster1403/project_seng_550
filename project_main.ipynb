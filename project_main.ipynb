{
 "cells": [
  {
   "cell_type": "markdown",
   "metadata": {},
   "source": [
    "# Analysis of Reddit Comments on Climate Change\n",
    "This notebook analyzes Reddit comments on climate change. Our team's goal is to: ...\n",
    "\n",
    "SENG 550 Final Project\n",
    "- Monmoy Maahdie\n",
    "- Smitkumar Saraiya\n",
    "- Farhan Ali\n",
    "- Kai Ferrer"
   ]
  },
  {
   "cell_type": "markdown",
   "metadata": {},
   "source": [
    "## 1. Import Libraries"
   ]
  },
  {
   "cell_type": "code",
   "execution_count": 1,
   "metadata": {},
   "outputs": [],
   "source": [
    "import pandas as pd\n",
    "import numpy as np\n",
    "import matplotlib.pyplot as plt\n",
    "import spacy\n",
    "from pyspark.sql import SparkSession\n",
    "from pyspark.sql.functions import collect_list\n",
    "from collections import Counter\n",
    "from pyspark.sql.functions import col, length, regexp_replace, udf, split, explode\n",
    "from pyspark.sql.types import DoubleType, StringType, IntegerType"
   ]
  },
  {
   "cell_type": "code",
   "execution_count": 2,
   "metadata": {},
   "outputs": [],
   "source": [
    "\n",
    "from pyspark.ml.feature import Tokenizer, HashingTF, VectorAssembler, StopWordsRemover\n",
    "from pyspark.ml.regression import LinearRegression\n",
    "from pyspark.ml import Pipeline\n",
    "from pyspark.ml.evaluation import RegressionEvaluator\n",
    "from pyspark.ml.tuning import CrossValidator, ParamGridBuilder\n",
    "from pyspark.sql.functions import from_unixtime"
   ]
  },
  {
   "cell_type": "markdown",
   "metadata": {},
   "source": [
    "## 2. Create Spark Session"
   ]
  },
  {
   "cell_type": "code",
   "execution_count": 3,
   "metadata": {},
   "outputs": [
    {
     "name": "stderr",
     "output_type": "stream",
     "text": [
      "24/12/19 17:01:46 WARN Utils: Your hostname, Yeontan.local resolves to a loopback address: 127.0.0.1; using 192.168.1.69 instead (on interface en0)\n",
      "24/12/19 17:01:46 WARN Utils: Set SPARK_LOCAL_IP if you need to bind to another address\n",
      "Setting default log level to \"WARN\".\n",
      "To adjust logging level use sc.setLogLevel(newLevel). For SparkR, use setLogLevel(newLevel).\n",
      "24/12/19 17:01:46 WARN NativeCodeLoader: Unable to load native-hadoop library for your platform... using builtin-java classes where applicable\n",
      "24/12/19 17:01:47 WARN Utils: Service 'SparkUI' could not bind on port 4040. Attempting port 4041.\n",
      "24/12/19 17:01:47 WARN Utils: Service 'SparkUI' could not bind on port 4041. Attempting port 4042.\n"
     ]
    }
   ],
   "source": [
    "# Initialize spark session\n",
    "spark = SparkSession.builder \\\n",
    "    .appName(\"Reddit Climate Change Comments\") \\\n",
    "    .config(\"spark.driver.memory\", \"4g\") \\\n",
    "    .config(\"spark.executor.memory\", \"8g\") \\\n",
    "    .config(\"spark.sql.shuffle.partitions\", \"100\") \\\n",
    "    .getOrCreate()"
   ]
  },
  {
   "cell_type": "markdown",
   "metadata": {},
   "source": [
    "## 3. Load Data"
   ]
  },
  {
   "cell_type": "code",
   "execution_count": 4,
   "metadata": {},
   "outputs": [
    {
     "data": {
      "text/plain": [
       "326"
      ]
     },
     "execution_count": 4,
     "metadata": {},
     "output_type": "execute_result"
    }
   ],
   "source": [
    "nlp = spacy.load('en_core_web_sm')\n",
    "stopwords = nlp.Defaults.stop_words\n",
    "len(stopwords)"
   ]
  },
  {
   "cell_type": "markdown",
   "metadata": {},
   "source": [
    "## 4. Data Cleaning"
   ]
  },
  {
   "cell_type": "code",
   "execution_count": 5,
   "metadata": {},
   "outputs": [],
   "source": [
    "nlp.Defaults.stop_words -= {\"no\", \"not\"}"
   ]
  },
  {
   "cell_type": "code",
   "execution_count": 6,
   "metadata": {},
   "outputs": [
    {
     "name": "stderr",
     "output_type": "stream",
     "text": [
      "                                                                                \r"
     ]
    }
   ],
   "source": [
    "# Create dataframe\n",
    "df = spark.read.csv(\"the-reddit-climate-change-dataset-comments.csv\", header=True, inferSchema=True)\n",
    "df = df.repartition(100)  #  increase the number of partitions for large dataset\n",
    "# df.show(5, truncate=False) # checking the dataset by displaying first 5 rows\n",
    "df_original = df # save original dataset"
   ]
  },
  {
   "cell_type": "code",
   "execution_count": 7,
   "metadata": {},
   "outputs": [],
   "source": [
    "new_columns = [col_name.replace('.', '_') for col_name in df.columns]\n",
    "df = df.toDF(*new_columns)\n",
    "# df.show(5, truncate=False)"
   ]
  },
  {
   "cell_type": "code",
   "execution_count": 8,
   "metadata": {},
   "outputs": [],
   "source": [
    "df_clean = df.dropna()\n",
    "# df_clean.show(n=5, truncate=False)"
   ]
  },
  {
   "cell_type": "code",
   "execution_count": 9,
   "metadata": {},
   "outputs": [],
   "source": [
    "df_clean = df_clean.drop(\"permalink\")\n",
    "\n",
    "# Separate records where sentiment and score can be cast to numbers\n",
    "clean_df = df_clean.filter(\n",
    "    col(\"sentiment\").cast(DoubleType()).isNotNull() &\n",
    "    col(\"score\").cast(DoubleType()).isNotNull()\n",
    ")\n",
    "\n",
    "# Records where either sentiment or score contain non-numerical values\n",
    "problematic_df = df_clean.filter(\n",
    "    col(\"sentiment\").cast(DoubleType()).isNull() |\n",
    "    col(\"score\").cast(DoubleType()).isNull()\n",
    ")\n"
   ]
  },
  {
   "cell_type": "code",
   "execution_count": 10,
   "metadata": {},
   "outputs": [],
   "source": [
    "# clean_df.filter((df_clean[\"type\"] == \"comment\") & (df_clean[\"subreddit_name\"] == \"technology\")).show(n=100, truncate=False) | YOU CAN MIDIFY THE SUBREDDIT NAME TO SEE CLIMATE CHANGE DISCUSSIONS ON DIFFERENT SUBREDDITS\n",
    "# clean_df.show(n=10, truncate=False) # we want this data"
   ]
  },
  {
   "cell_type": "code",
   "execution_count": 11,
   "metadata": {},
   "outputs": [],
   "source": [
    "# print(clean_df.count())"
   ]
  },
  {
   "cell_type": "code",
   "execution_count": 12,
   "metadata": {},
   "outputs": [],
   "source": [
    "# problematic_df.filter(df_clean[\"type\"] == \"comment\").show(n=5, truncate=False) # this we do not need"
   ]
  },
  {
   "cell_type": "markdown",
   "metadata": {},
   "source": [
    "## 4. Data Transformation\n",
    "We start off by tokenizing the data using a spaCy model.\n",
    "Then, we apply transformations to process the text."
   ]
  },
  {
   "cell_type": "code",
   "execution_count": 13,
   "metadata": {},
   "outputs": [],
   "source": [
    "clean_df_1 = clean_df.filter(col(\"type\") == \"comment\") # only comments exist in here\n",
    "# clean_df_1.show(n=10, truncate=False)"
   ]
  },
  {
   "cell_type": "code",
   "execution_count": 14,
   "metadata": {},
   "outputs": [],
   "source": [
    "# Load spacy model\n",
    "nlp = spacy.load('en_core_web_sm')\n",
    "\n",
    "# Define the preprocessing function\n",
    "def preprocess(comment):\n",
    "    doc = nlp(comment)\n",
    "    processed_words_list = []\n",
    "    for token in doc:\n",
    "        if not token.is_punct and not token.like_url and not token.is_stop:\n",
    "            processed_words_list.append(token.lemma_.strip().lower())\n",
    "    return ' '.join(processed_words_list)\n",
    "\n",
    "    \n",
    "# Create a UDF from the function\n",
    "preprocess_udf = udf(preprocess, StringType())\n"
   ]
  },
  {
   "cell_type": "code",
   "execution_count": 15,
   "metadata": {},
   "outputs": [
    {
     "name": "stderr",
     "output_type": "stream",
     "text": [
      "[Stage 4:>                                                          (0 + 1) / 1]\r"
     ]
    },
    {
     "name": "stdout",
     "output_type": "stream",
     "text": [
      "+-------+-------+------------+--------------------+--------------+-----------+------------------------------------------------------------------------------------------------------------------------------------------------------------------------------------------------------------------------------------------------------------------------------------------------------------------------------------------------------------------------------------------------------------------------------------------------------------------------------------------------------------------------------------------------------------------------------+---------+-----+-------------------------------------------------------------------------------------------------------------------------------------------------------------------------------------------------------------------------------------------------------------------------------------------------------------------------------+\n",
      "|type   |id     |subreddit_id|subreddit_name      |subreddit_nsfw|created_utc|body                                                                                                                                                                                                                                                                                                                                                                                                                                                                                                                                                                          |sentiment|score|processed_body                                                                                                                                                                                                                                                                                                                 |\n",
      "+-------+-------+------------+--------------------+--------------+-----------+------------------------------------------------------------------------------------------------------------------------------------------------------------------------------------------------------------------------------------------------------------------------------------------------------------------------------------------------------------------------------------------------------------------------------------------------------------------------------------------------------------------------------------------------------------------------------+---------+-----+-------------------------------------------------------------------------------------------------------------------------------------------------------------------------------------------------------------------------------------------------------------------------------------------------------------------------------+\n",
      "|comment|ilzq6wi|2cn1kk      |confidentlyincorrect|false         |1661601318 |Climate change is a civilization ender, are you thick in the skull? We’re killing wild animals because we can’t keep our greed to ourselves and overpopulation is a contributor to that. Even if you don’t care about the animals, the animals are the ones keeping this planet alive, without animals our forests will die, our waters will become poison and our air will become toxic. It’s either people get rid of their greed or we have less greedy people (people in general) and the only solution is less people since nobody will sacrifice their mass consumption.|-0.9023  |3    |climate change civilization ender thick skull kill wild animal greed overpopulation contributor care animal animal one keep planet alive animal forest die water poison air toxic people rid greed greedy people people general solution people sacrifice mass consumption                                                     |\n",
      "|comment|ijh601l|2qh4r       |conspiracy          |false         |1659984481 |As oil production declines people will compete for the remaining supply driving prices up and causing a vast wealth transfer to the energy producers. By reframing the issue as climate change and charging a huge co2 tax on everything western governments can capture that wealth transfer for themselves - ostensibly to reinvest in alternative energy production and more effecient use of energy. Or maybe just to make their alt energy and green washing friends and patrons rich.                                                                                   |0.9674   |0    |oil production decline people compete remain supply drive price cause vast wealth transfer energy producer reframe issue climate change charge huge co2 tax western government capture wealth transfer ostensibly reinvest alternative energy production effecient use energy maybe alt energy green washing friend patron rich|\n",
      "|comment|ij23fxm|2r73k       |politicaldebate     |false         |1659709788 |Mc Donald's is a fast food company, you need to cook food... with a oven.... witch requires gas. Its really not concerning, even if we completely got rid of carbon emissions it wouldn't make a difference on climate change.                                                                                                                                                                                                                                                                                                                                                |-0.3612  |1    |mc donald fast food company need cook food oven witch require gas not concern completely get rid carbon emission difference climate change                                                                                                                                                                                     |\n",
      "|comment|igyuukm|2qh13       |worldnews           |false         |1658351775 |Climate change is the tip of the melting iceberg of things that would have been different if Gore had become president.                                                                                                                                                                                                                                                                                                                                                                                                                                                       |0.0      |2    |climate change tip melt iceberg thing different gore president                                                                                                                                                                                                                                                                 |\n",
      "|comment|iioq9jv|2qndt       |republican          |false         |1659469914 |All the nonprofit organizations that claim to be objective - ACLU, SPLC, ADL - have become extremely partisan. Even tech groups like the EFF, Tor, and Mozilla are getting involved in abortion and climate change debates now.                                                                                                                                                                                                                                                                                                                                               |0.3612   |5    |nonprofit organization claim objective aclu splc adl extremely partisan tech group like eff tor mozilla getting involve abortion climate change debate                                                                                                                                                                         |\n",
      "+-------+-------+------------+--------------------+--------------+-----------+------------------------------------------------------------------------------------------------------------------------------------------------------------------------------------------------------------------------------------------------------------------------------------------------------------------------------------------------------------------------------------------------------------------------------------------------------------------------------------------------------------------------------------------------------------------------------+---------+-----+-------------------------------------------------------------------------------------------------------------------------------------------------------------------------------------------------------------------------------------------------------------------------------------------------------------------------------+\n",
      "only showing top 5 rows\n",
      "\n"
     ]
    },
    {
     "name": "stderr",
     "output_type": "stream",
     "text": [
      "                                                                                \r"
     ]
    }
   ],
   "source": [
    "# Apply the UDF to create a new column\n",
    "clean_df_2 = clean_df_1.withColumn('processed_body', preprocess_udf(col('body')))\n",
    "clean_df_2.show(n=5, truncate=False)"
   ]
  },
  {
   "cell_type": "markdown",
   "metadata": {},
   "source": [
    "Now, we are categorizing sentiments across 3 classes: negative, neutral, and positive sentiments. This is a necessary step as part of data transformation."
   ]
  },
  {
   "cell_type": "code",
   "execution_count": 16,
   "metadata": {},
   "outputs": [],
   "source": [
    "def create_label(sentiment):\n",
    "    if float(sentiment) < -0.05:\n",
    "        return -1\n",
    "    elif float(sentiment) >= -0.05 and float(sentiment) <= 0.05:\n",
    "        return 0\n",
    "    else:\n",
    "        return 1\n",
    "\n",
    "create_label_udf = udf(create_label, IntegerType())\n"
   ]
  },
  {
   "cell_type": "code",
   "execution_count": 17,
   "metadata": {},
   "outputs": [],
   "source": [
    "clean_df_3 = clean_df_2.withColumn('label', create_label_udf(col('sentiment')))\n",
    "# Count occurrences of each subreddit_name and order by count in descending order\n",
    "subreddit_counts = clean_df_3.groupBy('subreddit_name') \\\n",
    "    .count() \\\n",
    "    .orderBy('count', ascending=False)\n",
    "\n",
    "# Show the results\n"
   ]
  },
  {
   "cell_type": "code",
   "execution_count": 18,
   "metadata": {},
   "outputs": [],
   "source": [
    "# print(\"Most common subreddits:\")\n",
    "# subreddit_counts.show(10, truncate=False)"
   ]
  },
  {
   "cell_type": "code",
   "execution_count": 19,
   "metadata": {},
   "outputs": [],
   "source": [
    "# # If you need the total number of unique subreddits\n",
    "# unique_subreddits = subreddit_counts.count()\n",
    "# print(f\"\\nTotal number of unique subreddits: {unique_subreddits}\")"
   ]
  },
  {
   "cell_type": "code",
   "execution_count": 20,
   "metadata": {},
   "outputs": [],
   "source": [
    "# subreddit_counts.filter(subreddit_counts['subreddit_name'] == 'climate').show()\n",
    "clean_df_3 = clean_df_3.withColumn(\"sentiment\", col(\"sentiment\").cast(DoubleType()))\n"
   ]
  },
  {
   "cell_type": "code",
   "execution_count": 21,
   "metadata": {},
   "outputs": [],
   "source": [
    "\n",
    "# print(\"At tokenizer\")\n",
    "# # Tokenize comment text\n",
    "# tokenizer = Tokenizer(inputCol=\"processed_body\", outputCol=\"words\")\n",
    "\n",
    "# # Transform words into numerical features\n",
    "# print(\"At hashingTF\")\n",
    "# hashingTF = HashingTF(inputCol=\"words\", outputCol=\"features\", numFeatures=10000)\n",
    "\n",
    "# # Define the model\n",
    "# print(\"At linear regression\")\n",
    "# lr = LinearRegression(featuresCol=\"features\", labelCol=\"sentiment\")\n",
    "\n",
    "# # Create a pipeline\n",
    "# print(\"At pipeline\")\n",
    "# pipeline = Pipeline(stages=[tokenizer, hashingTF, lr])\n",
    "\n",
    "# # Split the data\n",
    "# print(\"Data split\")\n",
    "# (train_data, test_data) = clean_df_3.randomSplit([0.01, 0.01])\n",
    "\n",
    "# # Train the model\n",
    "# print(\"model traiing\")\n",
    "# model = pipeline.fit(train_data)\n",
    "\n",
    "# # Make predictions\n",
    "# print(\"Predictions\")\n",
    "# predictions = model.transform(test_data)\n",
    "\n",
    "# # Evaluate the model\n",
    "# print(\"Mordel eval\")\n",
    "# evaluator = RegressionEvaluator(labelCol=\"sentiment\", predictionCol=\"prediction\", metricName=\"rmse\")\n",
    "# rmse = evaluator.evaluate(predictions)\n",
    "# print(\"Root Mean Squared Error (RMSE) on test data =\", rmse)\n"
   ]
  },
  {
   "cell_type": "markdown",
   "metadata": {},
   "source": [
    "## 5. Data Analysis & Visualization"
   ]
  },
  {
   "cell_type": "code",
   "execution_count": 22,
   "metadata": {},
   "outputs": [
    {
     "name": "stderr",
     "output_type": "stream",
     "text": [
      "[Stage 7:>                                                          (0 + 1) / 1]\r"
     ]
    },
    {
     "name": "stdout",
     "output_type": "stream",
     "text": [
      "+-------+-------+------------+--------------------+--------------+-----------+------------------------------------------------------------------------------------------------------------------------------------------------------------------------------------------------------------------------------------------------------------------------------------------------------------------------------------------------------------------------------------------------------------------------------------------------------------------------------------------------------------------------------------------------------------------------------+---------+-----+-------------------------------------------------------------------------------------------------------------------------------------------------------------------------------------------------------------------------------------------------------------------------------------------------------------------------------+-----+\n",
      "|type   |id     |subreddit_id|subreddit_name      |subreddit_nsfw|created_utc|body                                                                                                                                                                                                                                                                                                                                                                                                                                                                                                                                                                          |sentiment|score|processed_body                                                                                                                                                                                                                                                                                                                 |label|\n",
      "+-------+-------+------------+--------------------+--------------+-----------+------------------------------------------------------------------------------------------------------------------------------------------------------------------------------------------------------------------------------------------------------------------------------------------------------------------------------------------------------------------------------------------------------------------------------------------------------------------------------------------------------------------------------------------------------------------------------+---------+-----+-------------------------------------------------------------------------------------------------------------------------------------------------------------------------------------------------------------------------------------------------------------------------------------------------------------------------------+-----+\n",
      "|comment|ilzq6wi|2cn1kk      |confidentlyincorrect|false         |1661601318 |Climate change is a civilization ender, are you thick in the skull? We’re killing wild animals because we can’t keep our greed to ourselves and overpopulation is a contributor to that. Even if you don’t care about the animals, the animals are the ones keeping this planet alive, without animals our forests will die, our waters will become poison and our air will become toxic. It’s either people get rid of their greed or we have less greedy people (people in general) and the only solution is less people since nobody will sacrifice their mass consumption.|-0.9023  |3    |climate change civilization ender thick skull kill wild animal greed overpopulation contributor care animal animal one keep planet alive animal forest die water poison air toxic people rid greed greedy people people general solution people sacrifice mass consumption                                                     |-1   |\n",
      "|comment|ijh601l|2qh4r       |conspiracy          |false         |1659984481 |As oil production declines people will compete for the remaining supply driving prices up and causing a vast wealth transfer to the energy producers. By reframing the issue as climate change and charging a huge co2 tax on everything western governments can capture that wealth transfer for themselves - ostensibly to reinvest in alternative energy production and more effecient use of energy. Or maybe just to make their alt energy and green washing friends and patrons rich.                                                                                   |0.9674   |0    |oil production decline people compete remain supply drive price cause vast wealth transfer energy producer reframe issue climate change charge huge co2 tax western government capture wealth transfer ostensibly reinvest alternative energy production effecient use energy maybe alt energy green washing friend patron rich|1    |\n",
      "|comment|ij23fxm|2r73k       |politicaldebate     |false         |1659709788 |Mc Donald's is a fast food company, you need to cook food... with a oven.... witch requires gas. Its really not concerning, even if we completely got rid of carbon emissions it wouldn't make a difference on climate change.                                                                                                                                                                                                                                                                                                                                                |-0.3612  |1    |mc donald fast food company need cook food oven witch require gas not concern completely get rid carbon emission difference climate change                                                                                                                                                                                     |-1   |\n",
      "|comment|igyuukm|2qh13       |worldnews           |false         |1658351775 |Climate change is the tip of the melting iceberg of things that would have been different if Gore had become president.                                                                                                                                                                                                                                                                                                                                                                                                                                                       |0.0      |2    |climate change tip melt iceberg thing different gore president                                                                                                                                                                                                                                                                 |0    |\n",
      "|comment|iioq9jv|2qndt       |republican          |false         |1659469914 |All the nonprofit organizations that claim to be objective - ACLU, SPLC, ADL - have become extremely partisan. Even tech groups like the EFF, Tor, and Mozilla are getting involved in abortion and climate change debates now.                                                                                                                                                                                                                                                                                                                                               |0.3612   |5    |nonprofit organization claim objective aclu splc adl extremely partisan tech group like eff tor mozilla getting involve abortion climate change debate                                                                                                                                                                         |1    |\n",
      "+-------+-------+------------+--------------------+--------------+-----------+------------------------------------------------------------------------------------------------------------------------------------------------------------------------------------------------------------------------------------------------------------------------------------------------------------------------------------------------------------------------------------------------------------------------------------------------------------------------------------------------------------------------------------------------------------------------------+---------+-----+-------------------------------------------------------------------------------------------------------------------------------------------------------------------------------------------------------------------------------------------------------------------------------------------------------------------------------+-----+\n",
      "only showing top 5 rows\n",
      "\n"
     ]
    },
    {
     "name": "stderr",
     "output_type": "stream",
     "text": [
      "                                                                                \r"
     ]
    }
   ],
   "source": [
    "clean_df_3.show(5, truncate=False)"
   ]
  },
  {
   "cell_type": "code",
   "execution_count": 23,
   "metadata": {},
   "outputs": [
    {
     "name": "stderr",
     "output_type": "stream",
     "text": [
      "                                                                                \r"
     ]
    },
    {
     "name": "stdout",
     "output_type": "stream",
     "text": [
      "+-----+------+\n",
      "|label| count|\n",
      "+-----+------+\n",
      "|   -1|810803|\n",
      "|    1|718891|\n",
      "|    0|265984|\n",
      "+-----+------+\n",
      "\n"
     ]
    },
    {
     "name": "stderr",
     "output_type": "stream",
     "text": [
      "                                                                                \r"
     ]
    },
    {
     "data": {
      "image/png": "[encoded data removed]",
      "text/plain": [
       "<Figure size 800x500 with 1 Axes>"
      ]
     },
     "metadata": {},
     "output_type": "display_data"
    }
   ],
   "source": [
    "# Distribution of sentiment\n",
    "sentiment_distribution = clean_df_3.groupBy('label').count() # Aggregation\n",
    "sentiment_distribution.show()\n",
    "\n",
    "sentiment_pd = sentiment_distribution.toPandas() #convert to pandas\n",
    "\n",
    "# Graph\n",
    "plt.figure(figsize=(8, 5))\n",
    "plt.bar(sentiment_pd['label'], sentiment_pd['count'], color=['red', 'blue', 'green'])\n",
    "plt.title('Sentiment Distribution')\n",
    "plt.xlabel('Sentiment Label (-1: Negative, 0: Neutral, 1: Positive)')\n",
    "plt.ylabel('Count')\n",
    "plt.xticks(sentiment_pd['label'])\n",
    "plt.show()"
   ]
  },
  {
   "cell_type": "code",
   "execution_count": 24,
   "metadata": {},
   "outputs": [
    {
     "name": "stderr",
     "output_type": "stream",
     "text": [
      "                                                                                \r"
     ]
    },
    {
     "name": "stdout",
     "output_type": "stream",
     "text": [
      "+----------------+------+\n",
      "|  subreddit_name| count|\n",
      "+----------------+------+\n",
      "|        politics|145772|\n",
      "|       worldnews|144551|\n",
      "|       askreddit|130012|\n",
      "|            news| 41375|\n",
      "|      futurology| 35667|\n",
      "|        collapse| 32603|\n",
      "|         science| 28434|\n",
      "|     environment| 28275|\n",
      "|          canada| 23382|\n",
      "|unpopularopinion| 22134|\n",
      "+----------------+------+\n",
      "only showing top 10 rows\n",
      "\n"
     ]
    },
    {
     "name": "stderr",
     "output_type": "stream",
     "text": [
      "                                                                                \r"
     ]
    },
    {
     "data": {
      "image/png": "[encoded data removed]",
      "text/plain": [
       "<Figure size 1200x600 with 1 Axes>"
      ]
     },
     "metadata": {},
     "output_type": "display_data"
    }
   ],
   "source": [
    "# Top Subreddits by Comments\n",
    "# Group by subreddit_name and count occurrences\n",
    "subreddit_counts = clean_df_3.groupBy('subreddit_name').count().orderBy('count', ascending=False)\n",
    "subreddit_counts.show(10)\n",
    "subreddit_pd = subreddit_counts.limit(10).toPandas()\n",
    "\n",
    "# Graph\n",
    "plt.figure(figsize=(12, 6))\n",
    "plt.barh(subreddit_pd['subreddit_name'], subreddit_pd['count'], color='skyblue')\n",
    "plt.title('Top 10 Subreddits by Comment Count')\n",
    "plt.xlabel('Number of Comments')\n",
    "plt.ylabel('Subreddit')\n",
    "plt.gca().invert_yaxis()\n",
    "plt.show()"
   ]
  },
  {
   "cell_type": "code",
   "execution_count": 26,
   "metadata": {},
   "outputs": [
    {
     "name": "stderr",
     "output_type": "stream",
     "text": [
      "                                                                                \r"
     ]
    },
    {
     "name": "stdout",
     "output_type": "stream",
     "text": [
      "+----------+--------------------+\n",
      "|      date|   average_sentiment|\n",
      "+----------+--------------------+\n",
      "|2010-01-01| 0.17413333333333333|\n",
      "|2010-01-02|-0.07739999999999995|\n",
      "|2010-01-03|-0.00992499999999999|\n",
      "|2010-01-04| -0.1606214285714286|\n",
      "|2010-01-05| 0.09641071428571431|\n",
      "|2010-01-06|              0.1572|\n",
      "|2010-01-07| 0.06172857142857143|\n",
      "|2010-01-08|-0.21251428571428568|\n",
      "|2010-01-09| 0.13736428571428566|\n",
      "|2010-01-10| 0.11970666666666667|\n",
      "|2010-01-11|0.024036842105263172|\n",
      "|2010-01-12|-0.20530769230769227|\n",
      "|2010-01-13|            -0.31112|\n",
      "|2010-01-14| 0.09243428571428575|\n",
      "|2010-01-15| -0.1465866666666667|\n",
      "|2010-01-16|-0.08733749999999998|\n",
      "|2010-01-17| 0.14444545454545457|\n",
      "|2010-01-18|-0.05638888888888...|\n",
      "|2010-01-19| -0.0295888888888889|\n",
      "|2010-01-20|-0.18011818181818182|\n",
      "+----------+--------------------+\n",
      "only showing top 20 rows\n",
      "\n"
     ]
    },
    {
     "name": "stderr",
     "output_type": "stream",
     "text": [
      "                                                                                \r"
     ]
    },
    {
     "data": {
      "image/png": "[encoded data removed]",
      "text/plain": [
       "<Figure size 1200x600 with 1 Axes>"
      ]
     },
     "metadata": {},
     "output_type": "display_data"
    }
   ],
   "source": [
    "# Sentiment over time\n",
    "# Ensure created_utc is cast to long\n",
    "clean_df_3 = clean_df_3.withColumn(\"created_utc\", col(\"created_utc\").cast(\"long\"))\n",
    "\n",
    "# Convert created_utc to a date column\n",
    "def convert_to_date(timestamp):\n",
    "    return pd.to_datetime(timestamp, unit='s').strftime('%Y-%m-%d')\n",
    "\n",
    "convert_to_date_udf = udf(convert_to_date, StringType())\n",
    "clean_df_3 = clean_df_3.withColumn('date', convert_to_date_udf(col('created_utc')))\n",
    "\n",
    "# Group by date and calculate average sentiment\n",
    "sentiment_trends = clean_df_3.groupBy('date').agg({'sentiment': 'mean'}).orderBy('date')\n",
    "sentiment_trends = sentiment_trends.withColumnRenamed('avg(sentiment)', 'average_sentiment')\n",
    "sentiment_trends.show()\n",
    "\n",
    "# Convert to Pandas for visualization\n",
    "trends_pd = sentiment_trends.toPandas()\n",
    "trends_pd['date'] = pd.to_datetime(trends_pd['date'])\n",
    "\n",
    "# Plot sentiment trends over time\n",
    "plt.figure(figsize=(12, 6))\n",
    "plt.plot(trends_pd['date'], trends_pd['average_sentiment'], color='purple', marker='o')\n",
    "plt.title('Sentiment Trends Over Time')\n",
    "plt.xlabel('Date')\n",
    "plt.ylabel('Average Sentiment')\n",
    "plt.grid(True)\n",
    "plt.show()\n"
   ]
  },
  {
   "cell_type": "code",
   "execution_count": null,
   "metadata": {},
   "outputs": [],
   "source": [
    "spark.stop()"
   ]
  }
 ],
 "metadata": {
  "kernelspec": {
   "display_name": "Python 3",
   "language": "python",
   "name": "python3"
  },
  "language_info": {
   "codemirror_mode": {
    "name": "ipython",
    "version": 3
   },
   "file_extension": ".py",
   "mimetype": "text/x-python",
   "name": "python",
   "nbconvert_exporter": "python",
   "pygments_lexer": "ipython3",
   "version": "3.10.7"
  }
 },
 "nbformat": 4,
 "nbformat_minor": 4
}
