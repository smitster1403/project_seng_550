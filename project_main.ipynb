{
 "cells": [
  {
   "cell_type": "code",
   "execution_count": 20,
   "metadata": {},
   "outputs": [],
   "source": [
    "import pandas as pd\n",
    "import numpy as np\n",
    "import pyspark\n",
    "from collections import Counter\n",
    "import matplotlib.pyplot as plt"
   ]
  },
  {
   "cell_type": "code",
   "execution_count": 6,
   "metadata": {},
   "outputs": [],
   "source": [
    "data = pd.read_csv('the-reddit-climate-change-dataset-comments.csv')\n",
    "data = data.dropna() # drop any rows with missing values"
   ]
  },
  {
   "cell_type": "code",
   "execution_count": 19,
   "metadata": {},
   "outputs": [
    {
     "name": "stdout",
     "output_type": "stream",
     "text": [
      "The issues you're describing are not a sunk cost fallacy. This is just the way capitalism and democracy are intended to work. \n",
      "\n",
      "If there's an issue where everyone really needs to be on the same page, capitalism and democracy just don't work well. In capitalism, as soon as clean energy is at a similar price to fossil fuels, there will be a transition. Businesses love certainty, and constantly fluctuating energy prices cause them many problems, even for oil companies. In democracy all the people who will be hurt by a transition away from fossil fuels are entitled to a voice. Rapid change, no matter how good the change is, always leaves people behind. \n",
      "\n",
      "These people have no reason to believe government will support them when they're left behind. What did the US do for auto workers when factories left, or when coal mines shut down? What about those making horse carriages in the early 1900s?  See the history of every industrial and technological revolution in the US. The wealthy and powerful find a way to benefit, but average people end up far worse off than before everytime. There is somewhere around 2 million people directly employed by oil companies. There are many more employed by companies who sell products or services mainly to the fossil fuels industry. Then entire cities and many government jobs that wouldn't be possible without a successful fossil fuels industry. To see the change you want anytime soon these people's concerns need to be addressed realistically. How much could  TX elections change, and thus national elections, by being more receptive to the concerns of these individuals?\n",
      "\n",
      "Pay more attention to what corporations are saying on climate change, including oil companies themselves. They tend to agree with you on a need to move away from fossil fuels. You just may not agree with them on how fast change should occur. In the US change is coming, but who knows when.\n",
      "\n",
      "I can't give you much hope that much change you would like to see will happen within the next 10-20 years. However, if everything you want could change tomorrow, you're still left with a huge problem in other parts of the world.\n"
     ]
    }
   ],
   "source": [
    "# counter = Counter(data['subreddit.nsfw'])\n",
    "# print(counter)\n",
    "\n",
    "# print(data['score'])\n",
    "print(data['body'].iloc[20340])"
   ]
  }
 ],
 "metadata": {
  "kernelspec": {
   "display_name": "base",
   "language": "python",
   "name": "python3"
  },
  "language_info": {
   "codemirror_mode": {
    "name": "ipython",
    "version": 3
   },
   "file_extension": ".py",
   "mimetype": "text/x-python",
   "name": "python",
   "nbconvert_exporter": "python",
   "pygments_lexer": "ipython3",
   "version": "3.12.4"
  }
 },
 "nbformat": 4,
 "nbformat_minor": 2
}
